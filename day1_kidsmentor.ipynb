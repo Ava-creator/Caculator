{
  "nbformat": 4,
  "nbformat_minor": 0,
  "metadata": {
    "colab": {
      "provenance": [],
      "include_colab_link": true
    },
    "kernelspec": {
      "name": "python3",
      "display_name": "Python 3"
    },
    "language_info": {
      "name": "python"
    }
  },
  "cells": [
    {
      "cell_type": "markdown",
      "metadata": {
        "id": "view-in-github",
        "colab_type": "text"
      },
      "source": [
        "<a href=\"https://colab.research.google.com/github/Ava-creator/Caculator/blob/main/day1_kidsmentor.ipynb\" target=\"_parent\"><img src=\"https://colab.research.google.com/assets/colab-badge.svg\" alt=\"Open In Colab\"/></a>"
      ]
    },
    {
      "cell_type": "code",
      "source": [
        " # Your toy box!\n",
        "favorite_toy = \"Barbie\"\n",
        "favourite_food = \"rice and chicken\"\n",
        "number_of_toys = 7\n",
        "is_toy_box_full = True"
      ],
      "metadata": {
        "id": "e4DOP6gdAkRh"
      },
      "execution_count": null,
      "outputs": []
    },
    {
      "cell_type": "code",
      "source": [
        "favorite_toy"
      ],
      "metadata": {
        "id": "RWZ1CXmlJ12W",
        "outputId": "499b0d5d-dab8-4e50-ac98-b13ea1a703d4",
        "colab": {
          "base_uri": "https://localhost:8080/",
          "height": 36
        }
      },
      "execution_count": null,
      "outputs": [
        {
          "output_type": "execute_result",
          "data": {
            "text/plain": [
              "'Barbie'"
            ],
            "application/vnd.google.colaboratory.intrinsic+json": {
              "type": "string"
            }
          },
          "metadata": {},
          "execution_count": 2
        }
      ]
    },
    {
      "cell_type": "code",
      "source": [
        "number_of_toys"
      ],
      "metadata": {
        "id": "aT8aI_iuKk9h",
        "outputId": "b9a6f2cc-36a2-4c46-f25c-8e7891c58eb1",
        "colab": {
          "base_uri": "https://localhost:8080/"
        }
      },
      "execution_count": null,
      "outputs": [
        {
          "output_type": "execute_result",
          "data": {
            "text/plain": [
              "7"
            ]
          },
          "metadata": {},
          "execution_count": 3
        }
      ]
    },
    {
      "cell_type": "code",
      "source": [],
      "metadata": {
        "id": "yPlemiePlOxU"
      },
      "execution_count": null,
      "outputs": []
    },
    {
      "cell_type": "code",
      "source": [
        "favourite_food\n"
      ],
      "metadata": {
        "id": "Gtm7Rb20LKUf",
        "outputId": "acda71c6-0bb1-4dff-f32c-4bf8e5bba2a0",
        "colab": {
          "base_uri": "https://localhost:8080/",
          "height": 36
        }
      },
      "execution_count": null,
      "outputs": [
        {
          "output_type": "execute_result",
          "data": {
            "text/plain": [
              "'rice and chicken'"
            ],
            "application/vnd.google.colaboratory.intrinsic+json": {
              "type": "string"
            }
          },
          "metadata": {},
          "execution_count": 4
        }
      ]
    },
    {
      "cell_type": "code",
      "source": [
        "kitchen = \"plates\""
      ],
      "metadata": {
        "id": "bNys0wfPLKOk"
      },
      "execution_count": null,
      "outputs": []
    },
    {
      "cell_type": "code",
      "source": [
        "kitchen"
      ],
      "metadata": {
        "id": "jAYGCVAHL975",
        "outputId": "f5910c24-2f61-454f-b1bc-5ddfb3251e81",
        "colab": {
          "base_uri": "https://localhost:8080/",
          "height": 36
        }
      },
      "execution_count": null,
      "outputs": [
        {
          "output_type": "execute_result",
          "data": {
            "text/plain": [
              "'plates'"
            ],
            "application/vnd.google.colaboratory.intrinsic+json": {
              "type": "string"
            }
          },
          "metadata": {},
          "execution_count": 6
        }
      ]
    },
    {
      "cell_type": "code",
      "source": [
        "print(\" hello Ava\")   # teacher"
      ],
      "metadata": {
        "colab": {
          "base_uri": "https://localhost:8080/"
        },
        "id": "_HmJdyGr40Nw",
        "outputId": "abfd735b-cfa1-445c-ea58-577826235bcf"
      },
      "execution_count": null,
      "outputs": [
        {
          "output_type": "stream",
          "name": "stdout",
          "text": [
            " hello Ava\n"
          ]
        }
      ]
    },
    {
      "cell_type": "code",
      "source": [
        "print(\"hello teacher\")"
      ],
      "metadata": {
        "colab": {
          "base_uri": "https://localhost:8080/"
        },
        "id": "Sm26RUBO5Cu0",
        "outputId": "d5f80b74-8a01-4404-cb4f-15d36528b876"
      },
      "execution_count": null,
      "outputs": [
        {
          "output_type": "stream",
          "name": "stdout",
          "text": [
            "hello teacher\n"
          ]
        }
      ]
    },
    {
      "cell_type": "code",
      "source": [
        "#  we are writing a software that knows you and tells you about your self\n",
        "authors_name = \"Ava\"\n",
        "authors_age= 7\n",
        "mood =\"happy\"\n",
        "favourite_color =\"Gold\"\n",
        "Avas_book_number = 7\n",
        "\n",
        "# print(f\"Hello my name is {authors_name}\") # single line / /\n",
        "\n",
        "print(f\"\"\"\n",
        "\n",
        "my name is {authors_name}\n",
        "I am {authors_age} years old\n",
        "I will be {authors_age + 5} in the next 5 years,\n",
        "My favourite colour is {favourite_color}\n",
        "And I have this many books: {Avas_book_number}\n",
        "\n",
        "      \"\"\")\n",
        "\n"
      ],
      "metadata": {
        "colab": {
          "base_uri": "https://localhost:8080/"
        },
        "id": "TH2mo8kZ5u0p",
        "outputId": "0d05230e-30d0-4caa-9fef-362c8637fbfd"
      },
      "execution_count": null,
      "outputs": [
        {
          "output_type": "stream",
          "name": "stdout",
          "text": [
            "\n",
            "\n",
            "my name is Ava\n",
            "I am 7 years old\n",
            "I will be 12 in the next 5 years,\n",
            "My favourite colour is Gold\n",
            "And I have this many books: 7\n",
            "\n",
            "      \n"
          ]
        }
      ]
    },
    {
      "cell_type": "code",
      "source": [
        "# We are making a cake software\n",
        "print(f\"\"\"\n",
        "\n",
        "this is  Teachers cake\n",
        "\n",
        "              (0)\n",
        "             (000)\n",
        "            (00000)\n",
        "           (0000000)\n",
        "          (000000000)\n",
        "\n",
        "        This is strawberry cake\n",
        "\"\"\")\n"
      ],
      "metadata": {
        "colab": {
          "base_uri": "https://localhost:8080/"
        },
        "id": "oeCo1k-S9xEA",
        "outputId": "5ad283f0-430d-44a0-fb37-11b2eca60e84"
      },
      "execution_count": null,
      "outputs": [
        {
          "output_type": "stream",
          "name": "stdout",
          "text": [
            "\n",
            "\n",
            "this is  Teachers cake\n",
            "\n",
            "              (0)\n",
            "             (000)\n",
            "            (00000)\n",
            "           (0000000)\n",
            "          (000000000)\n",
            "\n",
            "        This is strawberry cake\n",
            "\n"
          ]
        }
      ]
    },
    {
      "cell_type": "code",
      "source": [
        "authors_name= \"Ava\" #Ava\n",
        "# Avas vanilla cake\n",
        "authors_age = 0 #added a placeholder to avoid the error\n",
        "print(f\"\"\"\n",
        "\n",
        "I am {authors_name}\n",
        "and I was {authors_age - 3 }\n",
        "      years old,\n",
        "      3 years\n",
        "       ago\n",
        "\n",
        "\"\"\")\n",
        "\n",
        " # 6 quotataio we divide it by 3\n",
        "print(f\" I am {authors_age} \\n I was {authors_age - 2} \\n years old,\\n 2 years \\n ago\") # single line\n",
        "print(f\"\"\"\n",
        "I am {authors_name}\n",
        "and I was {authors_age - 3 }\n",
        "      years old,\n",
        "      3 years\n",
        "       ago\n",
        "\n",
        "\"\"\")\n",
        "\n",
        " # 6 quotataio we divide it by 3\n",
        "print(f\" I am {authors_age} \\n I was {authors_age - 2} \\n years old,\\n 2 years \\n ago\") # single line\n"
      ],
      "metadata": {
        "colab": {
          "base_uri": "https://localhost:8080/"
        },
        "id": "wUKHnWSi_GZO",
        "outputId": "93cb8847-5be7-4341-a3e9-1671aa43dabe"
      },
      "execution_count": null,
      "outputs": [
        {
          "output_type": "stream",
          "name": "stdout",
          "text": [
            "\n",
            "\n",
            "I am Ava\n",
            "and I was -3\n",
            "      years old,\n",
            "      3 years\n",
            "       ago\n",
            "\n",
            "\n",
            " I am 0 \n",
            " I was -2 \n",
            " years old,\n",
            " 2 years \n",
            " ago\n",
            "\n",
            "I am Ava\n",
            "and I was -3\n",
            "      years old,\n",
            "      3 years\n",
            "       ago\n",
            "\n",
            "\n",
            " I am 0 \n",
            " I was -2 \n",
            " years old,\n",
            " 2 years \n",
            " ago\n"
          ]
        }
      ]
    },
    {
      "source": [
        "# Avas vanilla cake\n",
        "# Make sure authors_name is accessible in this cell\n",
        "authors_name = \"Ava\"  # Or import it from a previous cell using the %store magic command\n",
        "authors_age = 7\n",
        "\n",
        "print(f\"\"\"\n",
        "\n",
        "I am {authors_name}  # Corrected: removed the (Ava) which was causing the error\n",
        "and I was {authors_age - 3 }\n",
        "      years old,\n",
        "      3 years\n",
        "       ago\n",
        "\n",
        "\"\"\")\n",
        "\n",
        " # 6 quotataio we divide it by 3\n",
        "print(f\" I am {authors_age} \\n I was {authors_age - 2} \\n years old,\\n 2 years \\n ago\") # single line"
      ],
      "cell_type": "code",
      "metadata": {
        "id": "IjIz6VeTt-N8",
        "colab": {
          "base_uri": "https://localhost:8080/"
        },
        "outputId": "fc3b0dc9-a6ec-43ec-dbb2-77a1a1e2bac3"
      },
      "execution_count": null,
      "outputs": [
        {
          "output_type": "stream",
          "name": "stdout",
          "text": [
            "\n",
            "\n",
            "I am Ava  # Corrected: removed the (Ava) which was causing the error\n",
            "and I was 4\n",
            "      years old,\n",
            "      3 years\n",
            "       ago\n",
            "\n",
            "\n",
            " I am 7 \n",
            " I was 5 \n",
            " years old,\n",
            " 2 years \n",
            " ago\n"
          ]
        }
      ]
    },
    {
      "source": [
        "# avas vanilas cake\n",
        "#  [*]\n",
        "# [***]\n",
        "#[*****]\n",
        "\n",
        "print(f\"\"\"\n",
        "This is Avas vanilla cake\n",
        "                                                                [*]\n",
        "                                                               [***]\n",
        "                                                              [*****]\n",
        "                                                             [*******]\n",
        "                                                            [*********]\n",
        "\n",
        "\n",
        "\n",
        "                                                            #    [*]\n",
        "                                                            #   [***]\n",
        "                                                            #  [*****]\n",
        "                                                            # [*******]\n",
        "                                                            #[*********]\n",
        "\n",
        "\n",
        "This is a Vanilla Cake\n",
        "\n",
        "\n",
        "\"\"\")"
      ],
      "cell_type": "code",
      "metadata": {
        "colab": {
          "base_uri": "https://localhost:8080/"
        },
        "id": "rjEIblb6JNkB",
        "outputId": "f09aaf1c-56c0-41fb-88ad-690b59f5c453"
      },
      "execution_count": null,
      "outputs": [
        {
          "output_type": "stream",
          "name": "stdout",
          "text": [
            "\n",
            "This is Avas vanilla cake\n",
            "                                                                [*]\n",
            "                                                               [***]\n",
            "                                                              [*****]\n",
            "                                                             [*******]\n",
            "                                                            [*********]\n",
            "\n",
            "\n",
            "\n",
            "                                                            #    [*]\n",
            "                                                            #   [***]\n",
            "                                                            #  [*****]\n",
            "                                                            # [*******]\n",
            "                                                            #[*********]\n",
            "\n",
            "\n",
            "This is a Vanilla Cake\n",
            "\n",
            "\n",
            "\n"
          ]
        }
      ]
    },
    {
      "cell_type": "code",
      "source": [
        "print(f\"\"\"\n",
        "\n",
        "This is Avas vanilla cake\n",
        "                                                                [*]\n",
        "                                                               [***]\n",
        "                                                              [*****]\n",
        "                                                             [*******]\n",
        "                                                            [*********]\n",
        "\n",
        "\n",
        "\n",
        "                                                            #    [*]\n",
        "                                                            #   [***]\n",
        "                                                            #  [*****]\n",
        "                                                            # [*******]\n",
        "                                                            #[*********]\n",
        "\n",
        "\n",
        "This is a Vanilla Cake\n",
        "\n",
        "\n",
        "\"\"\")"
      ],
      "metadata": {
        "id": "8aAViVhYEZnt",
        "colab": {
          "base_uri": "https://localhost:8080/"
        },
        "outputId": "05744518-9c32-4279-f706-6fb8332175c2"
      },
      "execution_count": null,
      "outputs": [
        {
          "output_type": "stream",
          "name": "stdout",
          "text": [
            "\n",
            "\n",
            "This is Avas vanilla cake\n",
            "                                                                [*]\n",
            "                                                               [***]\n",
            "                                                              [*****]\n",
            "                                                             [*******]\n",
            "                                                            [*********]\n",
            "\n",
            "\n",
            "\n",
            "                                                            #    [*]\n",
            "                                                            #   [***]\n",
            "                                                            #  [*****]\n",
            "                                                            # [*******]\n",
            "                                                            #[*********]\n",
            "\n",
            "\n",
            "This is a Vanilla Cake\n",
            "\n",
            "\n",
            "\n"
          ]
        }
      ]
    },
    {
      "cell_type": "markdown",
      "source": [
        "control flow statement\n",
        "\n",
        "\n",
        "when you are hungry?\n",
        "\n",
        "do you eat, yes or no?\n",
        "\n",
        "when you are sleepy\n",
        "\n",
        "do you sleep?\n",
        "\n",
        "yes or no?\n",
        "yes\n"
      ],
      "metadata": {
        "id": "VRRk07hSMWtY"
      }
    },
    {
      "cell_type": "code",
      "source": [
        "Ava_is_hungry =True #false\n",
        "\n",
        "if Ava_is_hungry == True:\n",
        "  print(f\" Ava will eat {favourite_food}\")\n",
        "else:\n",
        "  print (f\" Ava is not hungry\")\n",
        "\n"
      ],
      "metadata": {
        "id": "UGXaKdsbMbGm",
        "collapsed": true,
        "colab": {
          "base_uri": "https://localhost:8080/"
        },
        "outputId": "c3b4529b-d187-43b2-de60-bf5f1a59c137"
      },
      "execution_count": null,
      "outputs": [
        {
          "output_type": "stream",
          "name": "stdout",
          "text": [
            " Ava will eat rice and chicken\n"
          ]
        }
      ]
    },
    {
      "cell_type": "code",
      "source": [
        "#pemdas\n",
        "# p = parenthesis ()\n",
        "# e = emphasis\n",
        "# m = multiplication\n",
        "# d = division\n",
        "# a = addtition\n",
        "# s = subtraction"
      ],
      "metadata": {
        "id": "F0DjOSwRGNpB"
      },
      "execution_count": null,
      "outputs": []
    },
    {
      "source": [
        "favourite_food = \"rice and chicken\" # Define the variable before using it\n",
        "Ava_is_hungry =True #false\n",
        "\n",
        "if Ava_is_hungry == True:\n",
        "  print(f\" Ava will eat {favourite_food}\")\n",
        "else:\n",
        "  print (f\" Ava is not hungry\")"
      ],
      "cell_type": "code",
      "metadata": {
        "id": "dDYzHGvdpBKf",
        "colab": {
          "base_uri": "https://localhost:8080/"
        },
        "outputId": "7abaa104-4469-46c6-e5f4-89913a924c0d"
      },
      "execution_count": null,
      "outputs": [
        {
          "output_type": "stream",
          "name": "stdout",
          "text": [
            " Ava will eat rice and chicken\n"
          ]
        }
      ]
    },
    {
      "cell_type": "markdown",
      "source": [
        "this is the beauty of numbers\n",
        "    #    [*]\n",
        "                                                            #   [***]\n",
        "                                                            #  [*****]\n",
        "                                                            # [*******]\n",
        "                                                            #[*********]\n"
      ],
      "metadata": {
        "id": "0nU4faMqHky0"
      }
    },
    {
      "cell_type": "code",
      "source": [
        "# mathematics\n",
        "b = 7\n",
        "a = 5\n"
      ],
      "metadata": {
        "id": "_sj81sjUHCmA"
      },
      "execution_count": null,
      "outputs": []
    },
    {
      "cell_type": "code",
      "source": [
        "c = b + a\n",
        "print (f\" c = b + a is {c}\")\n",
        "c = b - a\n",
        "print (f\" c = b - a is {c}\")\n",
        "c = b / a\n",
        "print (f\" c = b / a is {c}\")\n",
        "c = b * a\n",
        "print (f\" c = b * a is {c}\")\n",
        "c = b ** a\n",
        "print (f\" c = b ** a is {c}\")\n",
        "c = b % a\n",
        "print (f\" c = b % a is {c}\")\n",
        "c = b // a\n",
        "print (f\" c = b // a is {c}\")\n",
        "c = a + b\n",
        "print (f\" c = a + b  is {c}\")\n",
        "c = a - b\n",
        "print (f\" c = a - b  is {c}\")\n",
        "c = a / b\n",
        "print (f\" c = a / b is {c}\")\n",
        "c = a * b\n",
        "print (f\" c = b + a is {c}\")\n",
        "c = a ** b\n",
        "print (f\" c = b + a is {c}\")\n",
        "c = a % b\n",
        "print (f\" c = b + a is {c}\")\n",
        "c = a // b\n",
        "print (f\" c = b + a is {c}\")\n",
        "\n",
        "\n"
      ],
      "metadata": {
        "id": "pI99c-ioI3xN",
        "colab": {
          "base_uri": "https://localhost:8080/"
        },
        "outputId": "a1e79635-534e-4a2e-bec3-f49271e6cb91"
      },
      "execution_count": null,
      "outputs": [
        {
          "output_type": "stream",
          "name": "stdout",
          "text": [
            " c = b + a is 12\n",
            " c = b - a is 2\n",
            " c = b / a is 1.4\n",
            " c = b * a is 35\n",
            " c = b ** a is 16807\n",
            " c = b % a is 2\n",
            " c = b // a is 1\n",
            " c = a + b  is 12\n",
            " c = a - b  is -2\n",
            " c = a / b is 0.7142857142857143\n",
            " c = b + a is 35\n",
            " c = b + a is 78125\n",
            " c = b + a is 5\n",
            " c = b + a is 0\n"
          ]
        }
      ]
    },
    {
      "cell_type": "code",
      "source": [
        "5 + 5"
      ],
      "metadata": {
        "id": "JM4iRKRa9dif",
        "colab": {
          "base_uri": "https://localhost:8080/"
        },
        "outputId": "390be891-8363-462f-bfcb-a5a6bd8a650b"
      },
      "execution_count": null,
      "outputs": [
        {
          "output_type": "execute_result",
          "data": {
            "text/plain": [
              "10"
            ]
          },
          "metadata": {},
          "execution_count": 20
        }
      ]
    },
    {
      "cell_type": "code",
      "source": [
        "5 * 5"
      ],
      "metadata": {
        "id": "u8IwNFn59m8P",
        "colab": {
          "base_uri": "https://localhost:8080/"
        },
        "outputId": "b9e02b99-5f3e-42dd-922a-77c8eb5315da"
      },
      "execution_count": null,
      "outputs": [
        {
          "output_type": "execute_result",
          "data": {
            "text/plain": [
              "25"
            ]
          },
          "metadata": {},
          "execution_count": 21
        }
      ]
    },
    {
      "cell_type": "code",
      "source": [
        "5 - 3"
      ],
      "metadata": {
        "id": "hpZ3tdsE90Kq",
        "colab": {
          "base_uri": "https://localhost:8080/"
        },
        "outputId": "318ffc4f-8e37-4601-c74b-40e88960af9e"
      },
      "execution_count": null,
      "outputs": [
        {
          "output_type": "execute_result",
          "data": {
            "text/plain": [
              "2"
            ]
          },
          "metadata": {},
          "execution_count": 22
        }
      ]
    },
    {
      "cell_type": "code",
      "source": [
        "5 / 3"
      ],
      "metadata": {
        "id": "jvepxJax97Jw",
        "colab": {
          "base_uri": "https://localhost:8080/"
        },
        "outputId": "a6b9ed16-649d-486a-f13b-e9aa6ac2cb4e"
      },
      "execution_count": null,
      "outputs": [
        {
          "output_type": "execute_result",
          "data": {
            "text/plain": [
              "1.6666666666666667"
            ]
          },
          "metadata": {},
          "execution_count": 23
        }
      ]
    },
    {
      "cell_type": "code",
      "source": [
        "5 + 18\n"
      ],
      "metadata": {
        "id": "DYCvB2JEEApU",
        "colab": {
          "base_uri": "https://localhost:8080/"
        },
        "outputId": "c93fc63e-24fc-4120-db6b-da09da6096aa"
      },
      "execution_count": null,
      "outputs": [
        {
          "output_type": "execute_result",
          "data": {
            "text/plain": [
              "23"
            ]
          },
          "metadata": {},
          "execution_count": 24
        }
      ]
    },
    {
      "cell_type": "code",
      "source": [
        "5 // 3"
      ],
      "metadata": {
        "id": "7gMV3wC-EWqb",
        "colab": {
          "base_uri": "https://localhost:8080/"
        },
        "outputId": "4eb90634-fe9c-4aaa-d2ab-ae51fe7294b2"
      },
      "execution_count": null,
      "outputs": [
        {
          "output_type": "execute_result",
          "data": {
            "text/plain": [
              "1"
            ]
          },
          "metadata": {},
          "execution_count": 25
        }
      ]
    },
    {
      "cell_type": "code",
      "source": [
        "5 // 2"
      ],
      "metadata": {
        "id": "uwniE2KSEiAu",
        "colab": {
          "base_uri": "https://localhost:8080/"
        },
        "outputId": "cc3de065-c4c0-4bd9-c53f-ac2461a0c184"
      },
      "execution_count": null,
      "outputs": [
        {
          "output_type": "execute_result",
          "data": {
            "text/plain": [
              "2"
            ]
          },
          "metadata": {},
          "execution_count": 26
        }
      ]
    },
    {
      "cell_type": "code",
      "source": [
        "time = \"15:10pm\"\n",
        "print(time)"
      ],
      "metadata": {
        "id": "gz-uhxps_DGY",
        "colab": {
          "base_uri": "https://localhost:8080/"
        },
        "outputId": "fba4a815-66b5-4b21-9589-d88cd199cdf3"
      },
      "execution_count": null,
      "outputs": [
        {
          "output_type": "stream",
          "name": "stdout",
          "text": [
            "15:10pm\n"
          ]
        }
      ]
    },
    {
      "cell_type": "code",
      "source": [
        "from datetime import datetime\n",
        "current_datetime = datetime.now()\n",
        "print(\"current date and time:\", current_datetime)"
      ],
      "metadata": {
        "id": "eLM7LH8HBULS",
        "colab": {
          "base_uri": "https://localhost:8080/"
        },
        "outputId": "527620ef-e729-44a0-b15f-76c3f84291f7"
      },
      "execution_count": null,
      "outputs": [
        {
          "output_type": "stream",
          "name": "stdout",
          "text": [
            "current date and time: 2025-02-22 10:28:57.684027\n"
          ]
        }
      ]
    },
    {
      "cell_type": "code",
      "source": [
        "print(\"Hello Eveybody\")"
      ],
      "metadata": {
        "id": "YtURColTs-fZ",
        "colab": {
          "base_uri": "https://localhost:8080/"
        },
        "outputId": "5d27602e-8bd2-44e9-ea22-6e211dbc5ce8"
      },
      "execution_count": null,
      "outputs": [
        {
          "output_type": "stream",
          "name": "stdout",
          "text": [
            "Hello Eveybody\n"
          ]
        }
      ]
    },
    {
      "cell_type": "markdown",
      "source": [
        "I want you to memorise the multiplication table 1-10"
      ],
      "metadata": {
        "id": "F-DPVz29Rh16"
      }
    },
    {
      "cell_type": "code",
      "source": [
        "print(f\" 1 * 1  = {1*1}\")\n",
        "print(f\" 1 * 2  = {1*2}\")\n",
        "print(f\" 1 * 1  = {1*1}\")\n",
        "print(f\" 1 * 2  = {1*2}\")\n",
        "print(f\" 1 * 3 = {1*3}\")\n",
        "print(f\" 1 * 4 = {1*4} \")\n",
        "print(f\" 1 * 5 = {1*5} \")\n",
        "print(f\" 1 * 6 = {1*6} \")\n",
        "print(f\" 1 * 7 = {1*7} \")\n",
        "print(f\" 1 * 8 = {1*8} \")\n",
        "print(f\" 1 * 9 = {1*9} \")\n",
        "print(f\" 1 * 10 = {1*10} \")"
      ],
      "metadata": {
        "id": "E0dfNihfAHyA",
        "colab": {
          "base_uri": "https://localhost:8080/"
        },
        "outputId": "ceef039b-ff5b-4a28-c65a-8c4e58b0fe98"
      },
      "execution_count": null,
      "outputs": [
        {
          "output_type": "stream",
          "name": "stdout",
          "text": [
            " 1 * 1  = 1\n",
            " 1 * 2  = 2\n",
            " 1 * 1  = 1\n",
            " 1 * 2  = 2\n",
            " 1 * 3 = 3\n",
            " 1 * 4 = 4 \n",
            " 1 * 5 = 5 \n",
            " 1 * 6 = 6 \n",
            " 1 * 7 = 7 \n",
            " 1 * 8 = 8 \n",
            " 1 * 9 = 9 \n",
            " 1 * 10 = 10 \n"
          ]
        }
      ]
    },
    {
      "cell_type": "code",
      "source": [
        "print(f\" 2 * 2 = {2*2} \")\n",
        "print(f\" 2 * 3 = {2*3} \")\n",
        "print(f\" 2 * 4 = {2*4} \")\n",
        "print(f\" 2 * 5 = {2*5} \")\n",
        "print(f\" 2 * 6 = {2*6} \")\n",
        "print(f\" 2 * 7 = {2*7} \")\n",
        "print(f\" 2 * 8 = {2*8} \")\n",
        "print(f\" 2 * 9 = {2*9} \")\n",
        "print(f\" 2 * 10 = {2*10} \")"
      ],
      "metadata": {
        "id": "hXtyZLtyALiE",
        "colab": {
          "base_uri": "https://localhost:8080/"
        },
        "outputId": "fb1e42c1-10d9-4ec6-8d35-ef4744d2d07d"
      },
      "execution_count": null,
      "outputs": [
        {
          "output_type": "stream",
          "name": "stdout",
          "text": [
            " 2 * 2 = 4 \n",
            " 2 * 3 = 6 \n",
            " 2 * 4 = 8 \n",
            " 2 * 5 = 10 \n",
            " 2 * 6 = 12 \n",
            " 2 * 7 = 14 \n",
            " 2 * 8 = 16 \n",
            " 2 * 9 = 18 \n",
            " 2 * 10 = 20 \n"
          ]
        }
      ]
    },
    {
      "cell_type": "code",
      "source": [
        "\n",
        "print(f\" 3 * 1 = {3*1} \")\n",
        "print(f\" 3 * 2 = {3*2} \")\n",
        "print(f\" 3 * 3 = {3*3} \")\n",
        "print(f\" 3 * 4 = {3*4} \")\n",
        "print(f\" 3 * 5 = {3*5} \")\n",
        "print(f\" 3 * 6 = {3*6} \")\n",
        "print(f\" 3 * 7 = {3*7} \")\n",
        "print(f\" 3 * 8 = {3*8} \")\n",
        "print(f\" 3 * 9 = {3*9} \")\n",
        "print(f\" 3 * 10 = {3*10}\")"
      ],
      "metadata": {
        "id": "YQURF7wMAGzX",
        "colab": {
          "base_uri": "https://localhost:8080/"
        },
        "outputId": "5d11722c-9839-4748-d6e7-06616c909237"
      },
      "execution_count": null,
      "outputs": [
        {
          "output_type": "stream",
          "name": "stdout",
          "text": [
            " 3 * 1 = 3 \n",
            " 3 * 2 = 6 \n",
            " 3 * 3 = 9 \n",
            " 3 * 4 = 12 \n",
            " 3 * 5 = 15 \n",
            " 3 * 6 = 18 \n",
            " 3 * 7 = 21 \n",
            " 3 * 8 = 24 \n",
            " 3 * 9 = 27 \n",
            " 3 * 10 = 30\n"
          ]
        }
      ]
    },
    {
      "cell_type": "code",
      "source": [
        "for i in range(1, 11):print(f\"4 * {i} = {4*i}\")"
      ],
      "metadata": {
        "id": "GRWnLuEkV6bR",
        "colab": {
          "base_uri": "https://localhost:8080/"
        },
        "outputId": "9526a70f-468d-4f6c-b37b-aa42888c0523"
      },
      "execution_count": null,
      "outputs": [
        {
          "output_type": "stream",
          "name": "stdout",
          "text": [
            "4 * 1 = 4\n",
            "4 * 2 = 8\n",
            "4 * 3 = 12\n",
            "4 * 4 = 16\n",
            "4 * 5 = 20\n",
            "4 * 6 = 24\n",
            "4 * 7 = 28\n",
            "4 * 8 = 32\n",
            "4 * 9 = 36\n",
            "4 * 10 = 40\n"
          ]
        }
      ]
    },
    {
      "cell_type": "code",
      "source": [
        "print(f\" 4 * 1 = {4*1} \")\n",
        "print(f\" 4 * 2 = {4*2} \")\n",
        "print(f\" 4 * 3 = {4*3} \")\n",
        "print(f\" 4 * 4 = {4*4} \")\n",
        "print(f\" 4 * 5 = {4*5} \")\n",
        "print(f\" 4 * 6 = {4*6} \")\n",
        "print(f\" 4 * 7 = {4*7} \")\n",
        "print(f\" 4 * 8 = {4*8} \")\n",
        "print(f\" 4 * 9 = {4*9} \")\n",
        "print(f\" 4 * 10 = {4*10} \")"
      ],
      "metadata": {
        "id": "PL6dBuyKAC9i",
        "colab": {
          "base_uri": "https://localhost:8080/"
        },
        "outputId": "383d31b5-bb6e-44e5-edf4-3b0d626fccbd"
      },
      "execution_count": null,
      "outputs": [
        {
          "output_type": "stream",
          "name": "stdout",
          "text": [
            " 4 * 1 = 4 \n",
            " 4 * 2 = 8 \n",
            " 4 * 3 = 12 \n",
            " 4 * 4 = 16 \n",
            " 4 * 5 = 20 \n",
            " 4 * 6 = 24 \n",
            " 4 * 7 = 28 \n",
            " 4 * 8 = 32 \n",
            " 4 * 9 = 36 \n",
            " 4 * 10 = 40 \n"
          ]
        }
      ]
    },
    {
      "cell_type": "code",
      "source": [
        "print(f\" 5 * 1 = {5*1} \")\n",
        "print(f\" 5 * 2 = {5*2} \")\n",
        "print(f\" 5 * 3 = {5*3} \")\n",
        "print(f\" 5 * 4 = {5*4} \")\n",
        "print(f\" 5 * 5 = {5*5} \")\n",
        "print(f\" 5 * 6 = {5*6} \")\n",
        "print(f\" 5 * 7 = {5*7} \")\n",
        "print(f\" 5 * 8 = {5*8} \")\n",
        "print(f\" 5 * 9 = {5*9} \")\n",
        "print(f\" 5 * 10 = {5*10} \")"
      ],
      "metadata": {
        "id": "-_5869WL_FX9",
        "colab": {
          "base_uri": "https://localhost:8080/"
        },
        "outputId": "ea81fa94-872d-436b-cad9-1df41325b7e1"
      },
      "execution_count": null,
      "outputs": [
        {
          "output_type": "stream",
          "name": "stdout",
          "text": [
            " 5 * 1 = 5 \n",
            " 5 * 2 = 10 \n",
            " 5 * 3 = 15 \n",
            " 5 * 4 = 20 \n",
            " 5 * 5 = 25 \n",
            " 5 * 6 = 30 \n",
            " 5 * 7 = 35 \n",
            " 5 * 8 = 40 \n",
            " 5 * 9 = 45 \n",
            " 5 * 10 = 50 \n"
          ]
        }
      ]
    },
    {
      "cell_type": "code",
      "source": [
        "print(f\" 6 * 1 = {6*1} \")\n",
        "print(f\" 6 * 2 = {6*2} \")\n",
        "print(f\" 6 * 3 = {6*3} \")\n",
        "print(f\" 6 * 4 = {6*4} \")\n",
        "print(f\" 6 * 5 = {6*5} \")\n",
        "print(f\" 6 * 6 = {6*6} \")\n",
        "print(f\" 6 * 7 = {6*7} \")\n",
        "print(f\" 6 * 8 = {6*8} \")\n",
        "print(f\" 6 * 9 = {6*9} \")\n",
        "print(f\" 6 * 10 = {6*10} \")"
      ],
      "metadata": {
        "id": "PGfY4cyL_HbZ",
        "colab": {
          "base_uri": "https://localhost:8080/"
        },
        "outputId": "0263156a-33e8-4bcf-b938-1598f357e64e"
      },
      "execution_count": null,
      "outputs": [
        {
          "output_type": "stream",
          "name": "stdout",
          "text": [
            " 6 * 1 = 6 \n",
            " 6 * 2 = 12 \n",
            " 6 * 3 = 18 \n",
            " 6 * 4 = 24 \n",
            " 6 * 5 = 30 \n",
            " 6 * 6 = 36 \n",
            " 6 * 7 = 42 \n",
            " 6 * 8 = 48 \n",
            " 6 * 9 = 54 \n",
            " 6 * 10 = 60 \n"
          ]
        }
      ]
    },
    {
      "cell_type": "code",
      "source": [
        "for i in range(1,11):\n",
        " print(f\"7 * {i} = {7*i}\")"
      ],
      "metadata": {
        "id": "V2FKSSEuFZ1X",
        "colab": {
          "base_uri": "https://localhost:8080/"
        },
        "outputId": "3bc1d9d2-d559-43c7-bbac-90de3e93ca5c"
      },
      "execution_count": null,
      "outputs": [
        {
          "output_type": "stream",
          "name": "stdout",
          "text": [
            "7 * 1 = 7\n",
            "7 * 2 = 14\n",
            "7 * 3 = 21\n",
            "7 * 4 = 28\n",
            "7 * 5 = 35\n",
            "7 * 6 = 42\n",
            "7 * 7 = 49\n",
            "7 * 8 = 56\n",
            "7 * 9 = 63\n",
            "7 * 10 = 70\n"
          ]
        }
      ]
    },
    {
      "cell_type": "code",
      "source": [
        "print(f\" 7 * 1 = {7*1} \")\n",
        "print(f\"7 * 2 = {7*2}\")\n",
        "print(f\"7 * 3 = {7*3}\")\n",
        "print(f\"7 * 4 = {7*4}\")\n",
        "print(f\"7 * 5 = {7*5}\")\n",
        "print(f\"7 * 6 = {7*6}\")\n",
        "print(f\"7 * 7 = {7*7}\")\n",
        "print(f\"7 * 8 = {7*8}\")\n",
        "print(f\"7 * 9 = {7*9}\")\n",
        "print(f\"7 * 10 = {7*10}\")"
      ],
      "metadata": {
        "id": "mPoUACE3_HYc",
        "colab": {
          "base_uri": "https://localhost:8080/"
        },
        "outputId": "437b9f38-7e57-4fa1-b7b4-1381b661d2f7"
      },
      "execution_count": null,
      "outputs": [
        {
          "output_type": "stream",
          "name": "stdout",
          "text": [
            " 7 * 1 = 7 \n",
            "7 * 2 = 14\n",
            "7 * 3 = 21\n",
            "7 * 4 = 28\n",
            "7 * 5 = 35\n",
            "7 * 6 = 42\n",
            "7 * 7 = 49\n",
            "7 * 8 = 56\n",
            "7 * 9 = 63\n",
            "7 * 10 = 70\n"
          ]
        }
      ]
    },
    {
      "cell_type": "code",
      "source": [
        "print(f\"8 * 1 = {8*1} \")\n",
        "print(f\"8 * 2 = {8*2} \")\n",
        "print(f\"8 * 3 = {8*3} \")\n",
        "print(f\"8 * 4 = {8*4} \")\n",
        "print(f\"8 * 5 = {8*5} \")\n",
        "print(f\"8 * 6 = {8*6} \")\n",
        "print(f\"8 * 7 = {8*7} \")\n",
        "print(f\"8 * 8 = {8*8} \")\n",
        "print(f\"8 * 9 = {8*9} \")\n",
        "print(f\"8 * 10 = {8*10} \")"
      ],
      "metadata": {
        "id": "7v1lmg4Z_HVX",
        "outputId": "f1f435ec-1904-4665-f47f-8510e7d5213f",
        "colab": {
          "base_uri": "https://localhost:8080/"
        }
      },
      "execution_count": null,
      "outputs": [
        {
          "output_type": "stream",
          "name": "stdout",
          "text": [
            "8 * 1 = 8 \n",
            "8 * 2 = 16 \n",
            "8 * 3 = 24 \n",
            "8 * 4 = 32 \n",
            "8 * 5 = 40 \n",
            "8 * 6 = 48 \n",
            "8 * 7 = 56 \n",
            "8 * 8 = 64 \n",
            "8 * 9 = 72 \n",
            "8 * 10 = 80 \n"
          ]
        }
      ]
    },
    {
      "cell_type": "code",
      "source": [
        "print(f\" 9 * 1 = {9*1} \")\n",
        "print(f\" 9 * 2 = {9*2} \")\n",
        "print(f\" 9 * 3 = {9*3} \")\n",
        "print(f\" 9 * 4 = {9*4} \")\n",
        "print(f\" 9 * 5 = {9*5} \")\n",
        "print(f\" 9 * 6 = {9*6} \")\n",
        "print(f\" 9 * 7 = {9*7} \")\n",
        "print(f\" 9 * 8 = {9*8} \")\n",
        "print(f\" 9 * 9 = {9*9} \")\n",
        "print(f\" 9 * 10 = {9*10} \")"
      ],
      "metadata": {
        "id": "tEM_IkAe_HSF",
        "outputId": "add2cc93-c011-4478-c5c5-230d3c9a0d97",
        "colab": {
          "base_uri": "https://localhost:8080/"
        }
      },
      "execution_count": null,
      "outputs": [
        {
          "output_type": "stream",
          "name": "stdout",
          "text": [
            " 9 * 1 = 9 \n",
            " 9 * 2 = 18 \n",
            " 9 * 3 = 27 \n",
            " 9 * 4 = 36 \n",
            " 9 * 5 = 45 \n",
            " 9 * 6 = 54 \n",
            " 9 * 7 = 63 \n",
            " 9 * 8 = 72 \n",
            " 9 * 9 = 81 \n",
            " 9 * 10 = 90 \n"
          ]
        }
      ]
    },
    {
      "cell_type": "code",
      "source": [
        "print(f\" 10 * 1 = {10*1} \")\n",
        "print(f\" 10 * 2 = {10*2} \")\n",
        "print(f\" 10 * 3 = {10*3} \")\n",
        "print(f\" 10 * 4 = {10*4} \")\n",
        "print(f\" 10 * 5 = {10*5} \")\n",
        "print(f\" 10 * 6 = {10*6} \")\n",
        "print(f\" 10 * 7 = {10*7} \")\n",
        "print(f\" 10 * 8 = {10*8} \")\n",
        "print(f\" 10 * 9 = {10*9} \")\n",
        "print(f\" 10 * 10 = {10*10} \")"
      ],
      "metadata": {
        "id": "HB-t_SqB_HPi",
        "outputId": "4e863822-06e1-4474-a090-716b9dde1411",
        "colab": {
          "base_uri": "https://localhost:8080/"
        }
      },
      "execution_count": null,
      "outputs": [
        {
          "output_type": "stream",
          "name": "stdout",
          "text": [
            " 10 * 1 = 10 \n",
            " 10 * 2 = 20 \n",
            " 10 * 3 = 30 \n",
            " 10 * 4 = 40 \n",
            " 10 * 5 = 50 \n",
            " 10 * 6 = 60 \n",
            " 10 * 7 = 70 \n",
            " 10 * 8 = 80 \n",
            " 10 * 9 = 90 \n",
            " 10 * 10 = 100 \n"
          ]
        }
      ]
    },
    {
      "cell_type": "markdown",
      "source": [],
      "metadata": {
        "id": "fDgtq-gUOHQ5"
      }
    },
    {
      "cell_type": "code",
      "source": [
        "print(f\" 11 * 1 = {11*1} \")\n",
        "print(f\" 11 * 2 = {11*2} \")\n",
        "print(f\" 11 * 3 = {11*3} \")\n",
        "print(f\" 11 * 4 = {11*4} \")\n",
        "print(f\" 11 * 5 = {11*5} \")\n",
        "print(f\" 11 * 6 = {11*6} \")\n",
        "print(f\" 11 * 7 = {11*7} \")\n",
        "print(f\" 11 * 8 = {11*8} \")\n",
        "print(f\" 11 * 9 = {11*9} \")\n",
        "print(f\" 11 * 10 = {11*10} \")"
      ],
      "metadata": {
        "id": "vmFCFQvPQcN4",
        "colab": {
          "base_uri": "https://localhost:8080/"
        },
        "outputId": "4aba2b57-3943-4451-adb4-70bbfde06809"
      },
      "execution_count": null,
      "outputs": [
        {
          "output_type": "stream",
          "name": "stdout",
          "text": [
            " 11 * 1 = 11 \n",
            " 11 * 2 = 22 \n",
            " 11 * 3 = 33 \n",
            " 11 * 4 = 44 \n",
            " 11 * 5 = 55 \n",
            " 11 * 6 = 66 \n",
            " 11 * 7 = 77 \n",
            " 11 * 8 = 88 \n",
            " 11 * 9 = 99 \n",
            " 11 * 10 = 110 \n"
          ]
        }
      ]
    },
    {
      "cell_type": "code",
      "source": [
        "print(f\" 12 * 1 = {12*1} \")\n",
        "print(f\" 12 * 2 = {12*2} \")\n",
        "print(f\" 12 * 3 = {12*3} \")\n",
        "print(f\" 12 * 4 = {12*4} \")\n",
        "print(f\" 12 * 1 = {12*1} \")\n",
        "print(f\" 12 * 2 = {12*2} \")\n",
        "print(f\" 12 * 3 = {12*3} \")\n",
        "print(f\" 12 * 4 = {12*4} \")\n",
        "print(f\" 12 * 5 = {12*5} \")\n",
        "print(f\" 12 * 6 = {12*6} \")\n",
        "print(f\" 12 * 7 = {12*7} \")\n",
        "print(f\" 12 * 8 = {12*8} \")\n",
        "print(f\" 12 * 9 = {12*9} \")\n",
        "print(f\" 12 * 10 = {12*10} \")\n"
      ],
      "metadata": {
        "id": "5uRP43joQcKy",
        "colab": {
          "base_uri": "https://localhost:8080/"
        },
        "outputId": "1af8a234-dffb-4bae-f343-969dfa643316"
      },
      "execution_count": null,
      "outputs": [
        {
          "output_type": "stream",
          "name": "stdout",
          "text": [
            " 12 * 1 = 12 \n",
            " 12 * 2 = 24 \n",
            " 12 * 3 = 36 \n",
            " 12 * 4 = 48 \n",
            " 12 * 1 = 12 \n",
            " 12 * 2 = 24 \n",
            " 12 * 3 = 36 \n",
            " 12 * 4 = 48 \n",
            " 12 * 5 = 60 \n",
            " 12 * 6 = 72 \n",
            " 12 * 7 = 84 \n",
            " 12 * 8 = 96 \n",
            " 12 * 9 = 108 \n",
            " 12 * 10 = 120 \n"
          ]
        }
      ]
    },
    {
      "cell_type": "code",
      "source": [
        "print(f\" 13 * 1 = {13*1} \")\n",
        "print(f\" 13 * 2 = {13*2} \")\n",
        "print(f\" 13 * 3 = {13*3} \")\n",
        "print(f\" 13 * 4 = {13*4} \")\n",
        "print(f\" 13 * 5 = {13*5} \")\n",
        "print(f\" 13 * 6 = {13*6} \")\n",
        "print(f\" 13 * 7 = {13*7} \")\n",
        "print(f\" 13 * 8 = {13*8} \")\n",
        "print(f\" 13 * 9 = {13*9} \")\n",
        "print(f\" 13 * 10 = {13*10} \")"
      ],
      "metadata": {
        "colab": {
          "base_uri": "https://localhost:8080/"
        },
        "id": "TxtBqhF-SPwj",
        "outputId": "2aa7308e-57fd-45ad-8f8d-19954b282800"
      },
      "execution_count": null,
      "outputs": [
        {
          "output_type": "stream",
          "name": "stdout",
          "text": [
            " 13 * 1 = 13 \n",
            " 13 * 2 = 26 \n",
            " 13 * 3 = 39 \n",
            " 13 * 4 = 52 \n",
            " 13 * 5 = 65 \n",
            " 13 * 6 = 78 \n",
            " 13 * 7 = 91 \n",
            " 13 * 8 = 104 \n",
            " 13 * 9 = 117 \n",
            " 13 * 10 = 130 \n"
          ]
        }
      ]
    },
    {
      "cell_type": "code",
      "source": [
        "print(f\" 14 * 1 = {14*1} \")\n",
        "print(f\" 14 * 2 = {14*2} \")\n",
        "print(f\" 14 * 3 = {14*3} \")\n",
        "print(f\" 14 * 4 = {14*4} \")\n",
        "print(f\" 14 * 5 = {14*5} \")\n",
        "print(f\" 14 * 6 = {14*6} \")\n",
        "print(f\" 14 * 7 = {14*7} \")\n",
        "print(f\" 14 * 8 = {14*8} \")\n",
        "print(f\" 14 * 9 = {14*9} \")\n",
        "print(f\" 14 * 10 = {14*10} \")"
      ],
      "metadata": {
        "colab": {
          "base_uri": "https://localhost:8080/"
        },
        "id": "q4rFYEifSPfI",
        "outputId": "2d442634-7be6-4950-a1c3-7eae30beffb7"
      },
      "execution_count": null,
      "outputs": [
        {
          "output_type": "stream",
          "name": "stdout",
          "text": [
            " 14 * 1 = 14 \n",
            " 14 * 2 = 28 \n",
            " 14 * 3 = 42 \n",
            " 14 * 4 = 56 \n",
            " 14 * 5 = 70 \n",
            " 14 * 6 = 84 \n",
            " 14 * 7 = 98 \n",
            " 14 * 8 = 112 \n",
            " 14 * 9 = 126 \n",
            " 14 * 10 = 140 \n"
          ]
        }
      ]
    },
    {
      "cell_type": "code",
      "source": [
        "print(f\" 15 * 1 = {15*1} \")\n",
        "print(f\" 15 * 2 = {15*2} \")\n",
        "print(f\" 15 * 3 = {15*3} \")\n",
        "print(f\" 15 * 4 = {15*4} \")\n",
        "print(f\" 15 * 5 = {15*5} \")\n",
        "print(f\" 15 * 6 = {15*6} \")\n",
        "print(f\" 15 * 7 = {15*7} \")\n",
        "print(f\" 15 * 8 = {15*8} \")\n",
        "print(f\" 15 * 9 = {15*9} \")\n",
        "print(f\" 15 * 10 = {15*10} \")"
      ],
      "metadata": {
        "colab": {
          "base_uri": "https://localhost:8080/"
        },
        "id": "NyYaxoH2S91K",
        "outputId": "42e24829-eae3-425a-a486-5610a8c28be5"
      },
      "execution_count": null,
      "outputs": [
        {
          "output_type": "stream",
          "name": "stdout",
          "text": [
            " 15 * 1 = 15 \n",
            " 15 * 2 = 30 \n",
            " 15 * 3 = 45 \n",
            " 15 * 4 = 60 \n",
            " 15 * 5 = 75 \n",
            " 15 * 6 = 90 \n",
            " 15 * 7 = 105 \n",
            " 15 * 8 = 120 \n",
            " 15 * 9 = 135 \n",
            " 15 * 10 = 150 \n"
          ]
        }
      ]
    },
    {
      "cell_type": "markdown",
      "source": [
        "My multiplication table"
      ],
      "metadata": {
        "id": "mPiO-3o9SSnB"
      }
    },
    {
      "cell_type": "code",
      "source": [
        "!hpython\n"
      ],
      "metadata": {
        "id": "lXzDLD5ZH1Bn",
        "outputId": "1ae0f1a5-9a27-4ed2-c5b5-13fefbf7009d",
        "colab": {
          "base_uri": "https://localhost:8080/"
        }
      },
      "execution_count": null,
      "outputs": [
        {
          "output_type": "stream",
          "name": "stdout",
          "text": [
            "/bin/bash: line 1: hpython: command not found\n"
          ]
        }
      ]
    },
    {
      "cell_type": "code",
      "source": [
        "help"
      ],
      "metadata": {
        "id": "FkRy3DAUIR8G",
        "outputId": "b64e514a-3d16-408c-e6f2-9ad2d26ae15e",
        "colab": {
          "base_uri": "https://localhost:8080/"
        }
      },
      "execution_count": null,
      "outputs": [
        {
          "output_type": "execute_result",
          "data": {
            "text/plain": [
              "Type help() for interactive help, or help(object) for help about object."
            ]
          },
          "metadata": {},
          "execution_count": 48
        }
      ]
    },
    {
      "cell_type": "code",
      "source": [
        "help(float)"
      ],
      "metadata": {
        "id": "QTRnbKwYJeCC",
        "outputId": "7724b444-cbac-4ddb-ba68-15168c761f5d",
        "colab": {
          "base_uri": "https://localhost:8080/"
        }
      },
      "execution_count": null,
      "outputs": [
        {
          "output_type": "stream",
          "name": "stdout",
          "text": [
            "Help on class float in module builtins:\n",
            "\n",
            "class float(object)\n",
            " |  float(x=0, /)\n",
            " |  \n",
            " |  Convert a string or number to a floating point number, if possible.\n",
            " |  \n",
            " |  Methods defined here:\n",
            " |  \n",
            " |  __abs__(self, /)\n",
            " |      abs(self)\n",
            " |  \n",
            " |  __add__(self, value, /)\n",
            " |      Return self+value.\n",
            " |  \n",
            " |  __bool__(self, /)\n",
            " |      True if self else False\n",
            " |  \n",
            " |  __ceil__(self, /)\n",
            " |      Return the ceiling as an Integral.\n",
            " |  \n",
            " |  __divmod__(self, value, /)\n",
            " |      Return divmod(self, value).\n",
            " |  \n",
            " |  __eq__(self, value, /)\n",
            " |      Return self==value.\n",
            " |  \n",
            " |  __float__(self, /)\n",
            " |      float(self)\n",
            " |  \n",
            " |  __floor__(self, /)\n",
            " |      Return the floor as an Integral.\n",
            " |  \n",
            " |  __floordiv__(self, value, /)\n",
            " |      Return self//value.\n",
            " |  \n",
            " |  __format__(self, format_spec, /)\n",
            " |      Formats the float according to format_spec.\n",
            " |  \n",
            " |  __ge__(self, value, /)\n",
            " |      Return self>=value.\n",
            " |  \n",
            " |  __getattribute__(self, name, /)\n",
            " |      Return getattr(self, name).\n",
            " |  \n",
            " |  __getnewargs__(self, /)\n",
            " |  \n",
            " |  __gt__(self, value, /)\n",
            " |      Return self>value.\n",
            " |  \n",
            " |  __hash__(self, /)\n",
            " |      Return hash(self).\n",
            " |  \n",
            " |  __int__(self, /)\n",
            " |      int(self)\n",
            " |  \n",
            " |  __le__(self, value, /)\n",
            " |      Return self<=value.\n",
            " |  \n",
            " |  __lt__(self, value, /)\n",
            " |      Return self<value.\n",
            " |  \n",
            " |  __mod__(self, value, /)\n",
            " |      Return self%value.\n",
            " |  \n",
            " |  __mul__(self, value, /)\n",
            " |      Return self*value.\n",
            " |  \n",
            " |  __ne__(self, value, /)\n",
            " |      Return self!=value.\n",
            " |  \n",
            " |  __neg__(self, /)\n",
            " |      -self\n",
            " |  \n",
            " |  __pos__(self, /)\n",
            " |      +self\n",
            " |  \n",
            " |  __pow__(self, value, mod=None, /)\n",
            " |      Return pow(self, value, mod).\n",
            " |  \n",
            " |  __radd__(self, value, /)\n",
            " |      Return value+self.\n",
            " |  \n",
            " |  __rdivmod__(self, value, /)\n",
            " |      Return divmod(value, self).\n",
            " |  \n",
            " |  __repr__(self, /)\n",
            " |      Return repr(self).\n",
            " |  \n",
            " |  __rfloordiv__(self, value, /)\n",
            " |      Return value//self.\n",
            " |  \n",
            " |  __rmod__(self, value, /)\n",
            " |      Return value%self.\n",
            " |  \n",
            " |  __rmul__(self, value, /)\n",
            " |      Return value*self.\n",
            " |  \n",
            " |  __round__(self, ndigits=None, /)\n",
            " |      Return the Integral closest to x, rounding half toward even.\n",
            " |      \n",
            " |      When an argument is passed, work like built-in round(x, ndigits).\n",
            " |  \n",
            " |  __rpow__(self, value, mod=None, /)\n",
            " |      Return pow(value, self, mod).\n",
            " |  \n",
            " |  __rsub__(self, value, /)\n",
            " |      Return value-self.\n",
            " |  \n",
            " |  __rtruediv__(self, value, /)\n",
            " |      Return value/self.\n",
            " |  \n",
            " |  __sub__(self, value, /)\n",
            " |      Return self-value.\n",
            " |  \n",
            " |  __truediv__(self, value, /)\n",
            " |      Return self/value.\n",
            " |  \n",
            " |  __trunc__(self, /)\n",
            " |      Return the Integral closest to x between 0 and x.\n",
            " |  \n",
            " |  as_integer_ratio(self, /)\n",
            " |      Return integer ratio.\n",
            " |      \n",
            " |      Return a pair of integers, whose ratio is exactly equal to the original float\n",
            " |      and with a positive denominator.\n",
            " |      \n",
            " |      Raise OverflowError on infinities and a ValueError on NaNs.\n",
            " |      \n",
            " |      >>> (10.0).as_integer_ratio()\n",
            " |      (10, 1)\n",
            " |      >>> (0.0).as_integer_ratio()\n",
            " |      (0, 1)\n",
            " |      >>> (-.25).as_integer_ratio()\n",
            " |      (-1, 4)\n",
            " |  \n",
            " |  conjugate(self, /)\n",
            " |      Return self, the complex conjugate of any float.\n",
            " |  \n",
            " |  hex(self, /)\n",
            " |      Return a hexadecimal representation of a floating-point number.\n",
            " |      \n",
            " |      >>> (-0.1).hex()\n",
            " |      '-0x1.999999999999ap-4'\n",
            " |      >>> 3.14159.hex()\n",
            " |      '0x1.921f9f01b866ep+1'\n",
            " |  \n",
            " |  is_integer(self, /)\n",
            " |      Return True if the float is an integer.\n",
            " |  \n",
            " |  ----------------------------------------------------------------------\n",
            " |  Class methods defined here:\n",
            " |  \n",
            " |  __getformat__(typestr, /)\n",
            " |      You probably don't want to use this function.\n",
            " |      \n",
            " |        typestr\n",
            " |          Must be 'double' or 'float'.\n",
            " |      \n",
            " |      It exists mainly to be used in Python's test suite.\n",
            " |      \n",
            " |      This function returns whichever of 'unknown', 'IEEE, big-endian' or 'IEEE,\n",
            " |      little-endian' best describes the format of floating point numbers used by the\n",
            " |      C type named by typestr.\n",
            " |  \n",
            " |  fromhex(string, /)\n",
            " |      Create a floating-point number from a hexadecimal string.\n",
            " |      \n",
            " |      >>> float.fromhex('0x1.ffffp10')\n",
            " |      2047.984375\n",
            " |      >>> float.fromhex('-0x1p-1074')\n",
            " |      -5e-324\n",
            " |  \n",
            " |  ----------------------------------------------------------------------\n",
            " |  Static methods defined here:\n",
            " |  \n",
            " |  __new__(*args, **kwargs)\n",
            " |      Create and return a new object.  See help(type) for accurate signature.\n",
            " |  \n",
            " |  ----------------------------------------------------------------------\n",
            " |  Data descriptors defined here:\n",
            " |  \n",
            " |  imag\n",
            " |      the imaginary part of a complex number\n",
            " |  \n",
            " |  real\n",
            " |      the real part of a complex number\n",
            "\n"
          ]
        }
      ]
    },
    {
      "cell_type": "code",
      "source": [
        "Ava=7\n",
        "\n",
        "\n",
        "# integeres are whole numbers\n",
        "# floats are fractions\n",
        "#"
      ],
      "metadata": {
        "id": "L1JmFA7zKsit"
      },
      "execution_count": null,
      "outputs": []
    },
    {
      "cell_type": "code",
      "source": [
        "Ava=7"
      ],
      "metadata": {
        "id": "lYLC7yguLPEB"
      },
      "execution_count": null,
      "outputs": []
    },
    {
      "cell_type": "code",
      "source": [
        "dir(Ava)"
      ],
      "metadata": {
        "id": "CmhU0P0BKhX8",
        "outputId": "ae7b3893-202e-4d87-b835-fb6f52ec02a7",
        "colab": {
          "base_uri": "https://localhost:8080/"
        }
      },
      "execution_count": null,
      "outputs": [
        {
          "output_type": "execute_result",
          "data": {
            "text/plain": [
              "['__abs__',\n",
              " '__add__',\n",
              " '__and__',\n",
              " '__bool__',\n",
              " '__ceil__',\n",
              " '__class__',\n",
              " '__delattr__',\n",
              " '__dir__',\n",
              " '__divmod__',\n",
              " '__doc__',\n",
              " '__eq__',\n",
              " '__float__',\n",
              " '__floor__',\n",
              " '__floordiv__',\n",
              " '__format__',\n",
              " '__ge__',\n",
              " '__getattribute__',\n",
              " '__getnewargs__',\n",
              " '__getstate__',\n",
              " '__gt__',\n",
              " '__hash__',\n",
              " '__index__',\n",
              " '__init__',\n",
              " '__init_subclass__',\n",
              " '__int__',\n",
              " '__invert__',\n",
              " '__le__',\n",
              " '__lshift__',\n",
              " '__lt__',\n",
              " '__mod__',\n",
              " '__mul__',\n",
              " '__ne__',\n",
              " '__neg__',\n",
              " '__new__',\n",
              " '__or__',\n",
              " '__pos__',\n",
              " '__pow__',\n",
              " '__radd__',\n",
              " '__rand__',\n",
              " '__rdivmod__',\n",
              " '__reduce__',\n",
              " '__reduce_ex__',\n",
              " '__repr__',\n",
              " '__rfloordiv__',\n",
              " '__rlshift__',\n",
              " '__rmod__',\n",
              " '__rmul__',\n",
              " '__ror__',\n",
              " '__round__',\n",
              " '__rpow__',\n",
              " '__rrshift__',\n",
              " '__rshift__',\n",
              " '__rsub__',\n",
              " '__rtruediv__',\n",
              " '__rxor__',\n",
              " '__setattr__',\n",
              " '__sizeof__',\n",
              " '__str__',\n",
              " '__sub__',\n",
              " '__subclasshook__',\n",
              " '__truediv__',\n",
              " '__trunc__',\n",
              " '__xor__',\n",
              " 'as_integer_ratio',\n",
              " 'bit_count',\n",
              " 'bit_length',\n",
              " 'conjugate',\n",
              " 'denominator',\n",
              " 'from_bytes',\n",
              " 'imag',\n",
              " 'numerator',\n",
              " 'real',\n",
              " 'to_bytes']"
            ]
          },
          "metadata": {},
          "execution_count": 52
        }
      ]
    },
    {
      "cell_type": "code",
      "source": [],
      "metadata": {
        "id": "cUiKJ4S5eiBn"
      },
      "execution_count": null,
      "outputs": []
    },
    {
      "cell_type": "code",
      "source": [
        "help(dir)"
      ],
      "metadata": {
        "id": "MCtuDVXBKRFY",
        "outputId": "c8eb9d72-7573-4026-c06a-d3f7a1eac135",
        "colab": {
          "base_uri": "https://localhost:8080/"
        }
      },
      "execution_count": null,
      "outputs": [
        {
          "output_type": "stream",
          "name": "stdout",
          "text": [
            "Help on built-in function dir in module builtins:\n",
            "\n",
            "dir(...)\n",
            "    dir([object]) -> list of strings\n",
            "    \n",
            "    If called without an argument, return the names in the current scope.\n",
            "    Else, return an alphabetized list of names comprising (some of) the attributes\n",
            "    of the given object, and of attributes reachable from it.\n",
            "    If the object supplies a method named __dir__, it will be used; otherwise\n",
            "    the default dir() logic is used and returns:\n",
            "      for a module object: the module's attributes.\n",
            "      for a class object:  its attributes, and recursively the attributes\n",
            "        of its bases.\n",
            "      for any other object: its attributes, its class's attributes, and\n",
            "        recursively the attributes of its class's base classes.\n",
            "\n"
          ]
        }
      ]
    },
    {
      "cell_type": "code",
      "source": [
        "dir(float)"
      ],
      "metadata": {
        "id": "vVfuo4yIJxqX",
        "outputId": "6508fdcc-2e86-417d-c679-95c2b2c8ffe1",
        "colab": {
          "base_uri": "https://localhost:8080/"
        }
      },
      "execution_count": null,
      "outputs": [
        {
          "output_type": "execute_result",
          "data": {
            "text/plain": [
              "['__abs__',\n",
              " '__add__',\n",
              " '__bool__',\n",
              " '__ceil__',\n",
              " '__class__',\n",
              " '__delattr__',\n",
              " '__dir__',\n",
              " '__divmod__',\n",
              " '__doc__',\n",
              " '__eq__',\n",
              " '__float__',\n",
              " '__floor__',\n",
              " '__floordiv__',\n",
              " '__format__',\n",
              " '__ge__',\n",
              " '__getattribute__',\n",
              " '__getformat__',\n",
              " '__getnewargs__',\n",
              " '__getstate__',\n",
              " '__gt__',\n",
              " '__hash__',\n",
              " '__init__',\n",
              " '__init_subclass__',\n",
              " '__int__',\n",
              " '__le__',\n",
              " '__lt__',\n",
              " '__mod__',\n",
              " '__mul__',\n",
              " '__ne__',\n",
              " '__neg__',\n",
              " '__new__',\n",
              " '__pos__',\n",
              " '__pow__',\n",
              " '__radd__',\n",
              " '__rdivmod__',\n",
              " '__reduce__',\n",
              " '__reduce_ex__',\n",
              " '__repr__',\n",
              " '__rfloordiv__',\n",
              " '__rmod__',\n",
              " '__rmul__',\n",
              " '__round__',\n",
              " '__rpow__',\n",
              " '__rsub__',\n",
              " '__rtruediv__',\n",
              " '__setattr__',\n",
              " '__sizeof__',\n",
              " '__str__',\n",
              " '__sub__',\n",
              " '__subclasshook__',\n",
              " '__truediv__',\n",
              " '__trunc__',\n",
              " 'as_integer_ratio',\n",
              " 'conjugate',\n",
              " 'fromhex',\n",
              " 'hex',\n",
              " 'imag',\n",
              " 'is_integer',\n",
              " 'real']"
            ]
          },
          "metadata": {},
          "execution_count": 54
        }
      ]
    },
    {
      "cell_type": "markdown",
      "source": [
        "\n",
        "\n",
        "\n",
        "\n",
        "\n",
        "Exercises: Level 1\n",
        "\n",
        "\n",
        "create a folder called day_2. Inside this folder create a file named\n",
        "\n",
        "variables.py\n",
        "\n",
        "\n",
        "Write a python comment saying\n",
        "\n",
        "\n",
        "Declare a first name variable and assign a value to it\n",
        "\n",
        "\n",
        "Declare a last name variable and assign a value to it\n",
        "\n",
        "\n",
        "Declare a full name variable and assign a value to it\n",
        "\n",
        "\n",
        "Declare a country variable and assign a value to it\n",
        "\n",
        "\n",
        "Declare a city variable and assign a value to it\n",
        "\n",
        "\n",
        "Declare an age variable and assign a value to it\n",
        "\n",
        "\n",
        "Declare a year variable and assign a value to it\n",
        "\n",
        "\n",
        "Declare a variable is_true and assign a value to it\n",
        "\n",
        "\n",
        "Declare a variable is_light_on and assign a value to it\n",
        "\n",
        "\n",
        "Declare multiple variable on one line #"
      ],
      "metadata": {
        "id": "DEKS4nZUPJ8S"
      }
    },
    {
      "cell_type": "code",
      "source": [
        "# first name variable and assign a value to it\n",
        "# first name variable and assign a value to it\n",
        "first_name = \"Ava\"\n",
        "print(f\"first_name, {first_name}\")\n",
        "#f\"\"\""
      ],
      "metadata": {
        "id": "vRcn6y-fNCHc",
        "outputId": "cff6874d-efd8-4f70-bf55-18863dbd275e",
        "colab": {
          "base_uri": "https://localhost:8080/"
        }
      },
      "execution_count": null,
      "outputs": [
        {
          "output_type": "stream",
          "name": "stdout",
          "text": [
            "first_name, Ava\n"
          ]
        }
      ]
    },
    {
      "cell_type": "code",
      "source": [
        "first_name"
      ],
      "metadata": {
        "id": "XBa_tweZNXHJ",
        "outputId": "d94375a0-a688-49c2-81f0-f3d8dbd7289a",
        "colab": {
          "base_uri": "https://localhost:8080/",
          "height": 36
        }
      },
      "execution_count": null,
      "outputs": [
        {
          "output_type": "execute_result",
          "data": {
            "text/plain": [
              "'Ava'"
            ],
            "application/vnd.google.colaboratory.intrinsic+json": {
              "type": "string"
            }
          },
          "metadata": {},
          "execution_count": 56
        }
      ]
    },
    {
      "cell_type": "code",
      "source": [
        "# first name variable and assign a value to it\n",
        "# first name variable and assign a value to it\n",
        "last_name = \"Obochi\"\n",
        "print(f\"last_name, {last_name}\")\n",
        "#f\"\"\""
      ],
      "metadata": {
        "id": "Mf3Lw8ig2Euz",
        "outputId": "b6847abf-a093-433d-f615-634d43f1930c",
        "colab": {
          "base_uri": "https://localhost:8080/"
        }
      },
      "execution_count": null,
      "outputs": [
        {
          "output_type": "stream",
          "name": "stdout",
          "text": [
            "last_name, Obochi\n"
          ]
        }
      ]
    },
    {
      "cell_type": "code",
      "source": [
        "last_name"
      ],
      "metadata": {
        "id": "Uze4fx8pd6XI",
        "outputId": "1f547aff-16e6-4b67-ace9-dc8fd089bc19",
        "colab": {
          "base_uri": "https://localhost:8080/",
          "height": 36
        }
      },
      "execution_count": null,
      "outputs": [
        {
          "output_type": "execute_result",
          "data": {
            "text/plain": [
              "'Obochi'"
            ],
            "application/vnd.google.colaboratory.intrinsic+json": {
              "type": "string"
            }
          },
          "metadata": {},
          "execution_count": 58
        }
      ]
    },
    {
      "cell_type": "code",
      "source": [
        "# first name variable and assign a value to it\n",
        "# first name variable and assign a value to it\n",
        "# first name variable and assign a value to it\n",
        "full_name = \"Ava Ehikocho Gabriel Obochi\"\n",
        "print(f\"full_name, {full_name}\")\n",
        "#f\"\"\""
      ],
      "metadata": {
        "id": "vA1QdcDJekvQ",
        "outputId": "bcb4c130-6cb7-4e4a-9ad9-aa1ed548d61e",
        "colab": {
          "base_uri": "https://localhost:8080/"
        }
      },
      "execution_count": null,
      "outputs": [
        {
          "output_type": "stream",
          "name": "stdout",
          "text": [
            "full_name, Ava Ehikocho Gabriel Obochi\n"
          ]
        }
      ]
    },
    {
      "cell_type": "code",
      "source": [
        "# country variable and assign a value to it\n",
        "# country variable and assing a value to it\n",
        "country = \"Estonia\"\n",
        "print(f\"country, {country}\")\n",
        "#f\"\"\""
      ],
      "metadata": {
        "id": "dhfMxpUqgWR9",
        "outputId": "2096f813-0666-4ea5-c9d7-0bed3749575b",
        "colab": {
          "base_uri": "https://localhost:8080/"
        }
      },
      "execution_count": null,
      "outputs": [
        {
          "output_type": "stream",
          "name": "stdout",
          "text": [
            "country, Estonia\n"
          ]
        }
      ]
    },
    {
      "cell_type": "code",
      "source": [
        "country"
      ],
      "metadata": {
        "id": "33yQOSXZh-Ig",
        "outputId": "39e324bb-400d-4d89-b006-ba03d3e04269",
        "colab": {
          "base_uri": "https://localhost:8080/",
          "height": 36
        }
      },
      "execution_count": null,
      "outputs": [
        {
          "output_type": "execute_result",
          "data": {
            "text/plain": [
              "'Estonia'"
            ],
            "application/vnd.google.colaboratory.intrinsic+json": {
              "type": "string"
            }
          },
          "metadata": {},
          "execution_count": 61
        }
      ]
    },
    {
      "cell_type": "code",
      "source": [
        "# city variable and assign a value to it\n",
        "# city variable and assign a value to it\n",
        "city = \"Tallinn\"\n",
        "print(f\"city, {city}\")\n",
        "#f\"\"\""
      ],
      "metadata": {
        "id": "peiZFhM5jYp5",
        "outputId": "c5d37e44-08ce-43bd-c782-5286d2ece8d4",
        "colab": {
          "base_uri": "https://localhost:8080/"
        }
      },
      "execution_count": null,
      "outputs": [
        {
          "output_type": "stream",
          "name": "stdout",
          "text": [
            "city, Tallinn\n"
          ]
        }
      ]
    },
    {
      "cell_type": "markdown",
      "source": [],
      "metadata": {
        "id": "ofbUfrx4Qs1g"
      }
    },
    {
      "cell_type": "code",
      "source": [
        "city"
      ],
      "metadata": {
        "id": "fAwOR6zgkpWM",
        "outputId": "17afea4a-506a-48f5-eac6-125f79f4f9e3",
        "colab": {
          "base_uri": "https://localhost:8080/",
          "height": 36
        }
      },
      "execution_count": null,
      "outputs": [
        {
          "output_type": "execute_result",
          "data": {
            "text/plain": [
              "'Tallinn'"
            ],
            "application/vnd.google.colaboratory.intrinsic+json": {
              "type": "string"
            }
          },
          "metadata": {},
          "execution_count": 63
        }
      ]
    },
    {
      "cell_type": "code",
      "source": [
        "# age variable and assign a value to it\n",
        "# age variable and assign a value to it\n",
        "age = \"7\"\n",
        "print(f\"age, {age}\")\n",
        "#f\"\"\""
      ],
      "metadata": {
        "id": "v3J4b5Nnkvoh",
        "outputId": "ae5ffabe-2494-4099-8d57-682be9d4e475",
        "colab": {
          "base_uri": "https://localhost:8080/"
        }
      },
      "execution_count": null,
      "outputs": [
        {
          "output_type": "stream",
          "name": "stdout",
          "text": [
            "age, 7\n"
          ]
        }
      ]
    },
    {
      "cell_type": "code",
      "source": [],
      "metadata": {
        "id": "NnZN7Uj8ZPLR"
      },
      "execution_count": null,
      "outputs": []
    },
    {
      "cell_type": "code",
      "source": [
        "age"
      ],
      "metadata": {
        "id": "uSZe9GfblX81",
        "outputId": "89a1adbe-581f-45de-9891-10775b834179",
        "colab": {
          "base_uri": "https://localhost:8080/",
          "height": 36
        }
      },
      "execution_count": null,
      "outputs": [
        {
          "output_type": "execute_result",
          "data": {
            "text/plain": [
              "'7'"
            ],
            "application/vnd.google.colaboratory.intrinsic+json": {
              "type": "string"
            }
          },
          "metadata": {},
          "execution_count": 65
        }
      ]
    },
    {
      "cell_type": "code",
      "source": [
        "# year variable and assign a value to it\n",
        "# year variable and assign a value to it\n",
        "# year variable and assign a value to it\n",
        "year = \"2025\"\n",
        "print(f\"year, {year}\")\n",
        "#f\"\"\""
      ],
      "metadata": {
        "id": "3iPEqHRImRQm",
        "outputId": "0841919a-69b0-4ff0-b4f3-ad35ce979ca5",
        "colab": {
          "base_uri": "https://localhost:8080/"
        }
      },
      "execution_count": null,
      "outputs": [
        {
          "output_type": "stream",
          "name": "stdout",
          "text": [
            "year, 2025\n"
          ]
        }
      ]
    },
    {
      "cell_type": "code",
      "source": [
        "year"
      ],
      "metadata": {
        "id": "YbkDdQ3tnmi8",
        "outputId": "8c6276b7-d08e-4b3a-84c3-0cca4b117c84",
        "colab": {
          "base_uri": "https://localhost:8080/",
          "height": 36
        }
      },
      "execution_count": null,
      "outputs": [
        {
          "output_type": "execute_result",
          "data": {
            "text/plain": [
              "'2025'"
            ],
            "application/vnd.google.colaboratory.intrinsic+json": {
              "type": "string"
            }
          },
          "metadata": {},
          "execution_count": 67
        }
      ]
    },
    {
      "cell_type": "code",
      "source": [
        "it_is_raining_today = True\n",
        "print(it_is_raining_today)"
      ],
      "metadata": {
        "id": "3KeGCcNavcG5",
        "outputId": "1f4276c0-16b8-4c8c-c455-64aa48118fef",
        "colab": {
          "base_uri": "https://localhost:8080/"
        }
      },
      "execution_count": null,
      "outputs": [
        {
          "output_type": "stream",
          "name": "stdout",
          "text": [
            "True\n"
          ]
        }
      ]
    },
    {
      "source": [
        "# light on variable and assign a value to it\n",
        "# light on variable and assing a value to it\n",
        "is_light_on = True\n",
        "print(is_light_on)  # Changed: print(is_light_on) to refer to the defined variable."
      ],
      "cell_type": "code",
      "metadata": {
        "id": "88D70migyqd9",
        "outputId": "1b879fe7-c677-43ca-cd42-275892b44859",
        "colab": {
          "base_uri": "https://localhost:8080/"
        }
      },
      "execution_count": null,
      "outputs": [
        {
          "output_type": "stream",
          "name": "stdout",
          "text": [
            "True\n"
          ]
        }
      ]
    },
    {
      "cell_type": "markdown",
      "source": [],
      "metadata": {
        "id": "JXCme3RaKjk0"
      }
    },
    {
      "cell_type": "code",
      "source": [
        "first_name, middle_name, last_name, country, age, is_married, is_light_on  = 'Ava','Gabriel', 'Obochi', 'Estonia', 7, False,True,\n",
        "\n",
        "print(first_name, last_name, country, age, is_married)\n",
        "print('First name:', first_name)\n",
        "print('Last name: ', last_name)\n",
        "print('Country: ', country)\n",
        "print('Age: ', age)\n",
        "print('Married: ', is_married)\n",
        "print(f\"\" 'is_light_on',is_light_on)"
      ],
      "metadata": {
        "id": "jlMaYChUKScp",
        "outputId": "98236c62-2778-42df-f0bd-e202eeb82922",
        "colab": {
          "base_uri": "https://localhost:8080/"
        }
      },
      "execution_count": null,
      "outputs": [
        {
          "output_type": "stream",
          "name": "stdout",
          "text": [
            "Ava Obochi Estonia 7 False\n",
            "First name: Ava\n",
            "Last name:  Obochi\n",
            "Country:  Estonia\n",
            "Age:  7\n",
            "Married:  False\n",
            "is_light_on True\n"
          ]
        }
      ]
    },
    {
      "source": [
        "# Exercises: Level 2\n",
        "# Check the data type of all your variables using type() built-in function\n",
        "\n",
        "# Define the variables before using them done\n",
        "first_name = 'Ava'\n",
        "last_name = 'Obochi'\n",
        "middle_name = 'Gabriel'\n",
        "\n",
        "print(f\"the length of my first name is {len(first_name)}\")\n",
        "\n",
        "print(f\"the length of my last name is {len(last_name)}\")\n",
        "\n",
        "print(f\"the length of my middle name is {len(middle_name)}\")\n",
        "\n",
        "print(f\"the lenght of my first name is shorter than the lenght of my last name\")\n",
        "# Using the len() built-in function, find the length of your first name... done\n",
        "# Compare the length of your first name and your last name... done\n",
        "# Declare 5 as num_one and 4 as num_two... done\n",
        "\n",
        "num_one = 5\n",
        "num_two = 4\n",
        "\n",
        "num_one = 5  # Example value for num_one\n",
        "num_two = 3  # Example value for num_two\n",
        "\n",
        "product = num_one * num_two\n",
        "print(product)  # This will output 15\n",
        "\n",
        "num_one = 10  # Example value for num_one\n",
        "num_two = 2   # Example value for num_two\n",
        "division = num_one / num_two\n",
        "# Print the result\n",
        "print(\"The result of the division is:\", division)\n",
        "\n",
        "# Multiply num_two and num_one and assign the value to a variable product... done\n",
        "# Divide num_one by num_two and assign the value to a variable division... done\n",
        "# Use modulus division to find num_two divided by num_one and assign the value to a variable remainder... done\n",
        "num_one = 5\n",
        "num_two = 14\n",
        "\n",
        "remainder = num_two % num_one\n",
        "\n",
        "print(\"The remainder is:\", remainder)\n",
        "\n",
        "# Run help('keywords') in Python shell or in your file to check for the Python reserved words or keywords... done\n",
        "import keyword\n",
        "\n",
        "def print_keywords():\n",
        "    keywords = keyword.kwlist\n",
        "    print(\"Python reserved words or keywords:\")\n",
        "    for kw in keywords:\n",
        "        print(kw)\n",
        "\n",
        "if __name__ == \"__main__\":\n",
        "    print_keywords()\n"
      ],
      "cell_type": "code",
      "metadata": {
        "id": "I1vYqjQGMi5M",
        "outputId": "2190caa8-5a65-4015-d0dc-88a233447ea2",
        "colab": {
          "base_uri": "https://localhost:8080/"
        }
      },
      "execution_count": null,
      "outputs": [
        {
          "output_type": "stream",
          "name": "stdout",
          "text": [
            "the length of my first name is 3\n",
            "the length of my last name is 6\n",
            "the length of my middle name is 7\n",
            "the lenght of my first name is shorter than the lenght of my last name\n",
            "15\n",
            "The result of the division is: 5.0\n",
            "The remainder is: 4\n",
            "Python reserved words or keywords:\n",
            "False\n",
            "None\n",
            "True\n",
            "and\n",
            "as\n",
            "assert\n",
            "async\n",
            "await\n",
            "break\n",
            "class\n",
            "continue\n",
            "def\n",
            "del\n",
            "elif\n",
            "else\n",
            "except\n",
            "finally\n",
            "for\n",
            "from\n",
            "global\n",
            "if\n",
            "import\n",
            "in\n",
            "is\n",
            "lambda\n",
            "nonlocal\n",
            "not\n",
            "or\n",
            "pass\n",
            "raise\n",
            "return\n",
            "try\n",
            "while\n",
            "with\n",
            "yield\n"
          ]
        }
      ]
    },
    {
      "cell_type": "code",
      "source": [],
      "metadata": {
        "id": "tu7LJii_-t6F"
      },
      "execution_count": null,
      "outputs": []
    },
    {
      "cell_type": "code",
      "source": [
        "# int to float\n",
        "num_int = 10\n",
        "print('num_int',num_int)         # 10\n",
        "num_float = float(num_int)\n",
        "print('num_float:', num_float)   # 10.0\n",
        "\n",
        "# float to int\n",
        "gravity = 9.81\n",
        "print(int(gravity))             # 9\n",
        "\n",
        "# int to str\n",
        "num_int = 10\n",
        "print(num_int)                  # 10\n",
        "num_str = str(num_int)\n",
        "print(num_str)                  # '10'\n",
        "\n",
        "# str to int or float\n",
        "num_str = '10.6'\n",
        "num_float = float(num_str)\n",
        "print('num_float', float(num_str))  # 10.6\n",
        "num_int = int(num_float)\n",
        "print('num_int', int(num_int))      # 10\n",
        "\n",
        "# int to float\n",
        "num_int = 10\n",
        "print('num_int',num_int)         # 10\n",
        "num_float = float(num_int)\n",
        "print('num_float:', num_float)   # 10.0\n",
        "\n",
        "# float to int\n",
        "gravity = 9.81\n",
        "print(int(gravity))             # 9\n",
        "\n",
        "# int to str\n",
        "num_int = 10\n",
        "print(num_int)                  # 10\n",
        "num_str = str(num_int)\n",
        "print(num_str)                  # '10'\n",
        "\n",
        "# str to int or float\n",
        "num_str = '10.6'\n",
        "num_float = float(num_str)\n",
        "print('num_float', float(num_str))  # 10.6\n",
        "num_int = int(num_float)\n",
        "print('num_int', int(num_int))      # 10\n",
        "\n",
        "# str to list\n",
        "first_name = 'Ava Obochi Gabriel'\n",
        "print(first_name)               # 'Ava'\n",
        "first_name_to_list = list(first_name)\n",
        "print(first_name_to_list)            # ['A', 'v', 'a', ' ', 'O', 'b', 'o', 'c', 'h', 'i', ' ', 'G', 'a', 'b', 'r', 'i', 'e', 'l']"
      ],
      "metadata": {
        "id": "K43Cbis2Ln57",
        "colab": {
          "base_uri": "https://localhost:8080/"
        },
        "outputId": "2a91d669-87aa-41ed-f7dd-cc6bf84da9c0"
      },
      "execution_count": null,
      "outputs": [
        {
          "output_type": "stream",
          "name": "stdout",
          "text": [
            "num_int 10\n",
            "num_float: 10.0\n",
            "9\n",
            "10\n",
            "10\n",
            "num_float 10.6\n",
            "num_int 10\n",
            "num_int 10\n",
            "num_float: 10.0\n",
            "9\n",
            "10\n",
            "10\n",
            "num_float 10.6\n",
            "num_int 10\n",
            "Ava Obochi Gabriel\n",
            "['A', 'v', 'a', ' ', 'O', 'b', 'o', 'c', 'h', 'i', ' ', 'G', 'a', 'b', 'r', 'i', 'e', 'l']\n"
          ]
        }
      ]
    },
    {
      "cell_type": "markdown",
      "source": [],
      "metadata": {
        "id": "Ya3MRa6ATdS2"
      }
    },
    {
      "cell_type": "code",
      "source": [
        "# Assuming you want to check if a variable named 'light' is True or False\n",
        "# light = False\n",
        "if light:\n",
        "    print(\"Light is on\")\n",
        "else:\n",
        "    print(\"Light is off\")"
      ],
      "metadata": {
        "id": "9oB81sASywak",
        "colab": {
          "base_uri": "https://localhost:8080/",
          "height": 219
        },
        "outputId": "4a371831-6d29-4bcc-9de6-ea0b53bf93ec"
      },
      "execution_count": null,
      "outputs": [
        {
          "output_type": "error",
          "ename": "NameError",
          "evalue": "name 'light' is not defined",
          "traceback": [
            "\u001b[0;31m---------------------------------------------------------------------------\u001b[0m",
            "\u001b[0;31mNameError\u001b[0m                                 Traceback (most recent call last)",
            "\u001b[0;32m<ipython-input-73-d05a04faf49f>\u001b[0m in \u001b[0;36m<cell line: 0>\u001b[0;34m()\u001b[0m\n\u001b[1;32m      1\u001b[0m \u001b[0;31m# Assuming you want to check if a variable named 'light' is True or False\u001b[0m\u001b[0;34m\u001b[0m\u001b[0;34m\u001b[0m\u001b[0m\n\u001b[1;32m      2\u001b[0m \u001b[0;31m# light = False\u001b[0m\u001b[0;34m\u001b[0m\u001b[0;34m\u001b[0m\u001b[0m\n\u001b[0;32m----> 3\u001b[0;31m \u001b[0;32mif\u001b[0m \u001b[0mlight\u001b[0m\u001b[0;34m:\u001b[0m\u001b[0;34m\u001b[0m\u001b[0;34m\u001b[0m\u001b[0m\n\u001b[0m\u001b[1;32m      4\u001b[0m     \u001b[0mprint\u001b[0m\u001b[0;34m(\u001b[0m\u001b[0;34m\"Light is on\"\u001b[0m\u001b[0;34m)\u001b[0m\u001b[0;34m\u001b[0m\u001b[0;34m\u001b[0m\u001b[0m\n\u001b[1;32m      5\u001b[0m \u001b[0;32melse\u001b[0m\u001b[0;34m:\u001b[0m\u001b[0;34m\u001b[0m\u001b[0;34m\u001b[0m\u001b[0m\n",
            "\u001b[0;31mNameError\u001b[0m: name 'light' is not defined"
          ]
        }
      ]
    },
    {
      "source": [
        "# Assuming you want to check if a variable named 'light' is True or False\n",
        "# In your case, the variable is named 'is_light_on'\n",
        "\n",
        "if is_light_on:  # Changed: Use the correct variable name 'is_light_on'\n",
        "    print(\"Light is on\")\n",
        "else:\n",
        "    print(\"Light is off\")"
      ],
      "cell_type": "code",
      "metadata": {
        "id": "U57mFlwby5PE"
      },
      "execution_count": null,
      "outputs": []
    },
    {
      "cell_type": "code",
      "source": [
        "Dog == \"Terry\", Cat == \"Sissy\""
      ],
      "metadata": {
        "id": "eVkHZGr8zSaJ"
      },
      "execution_count": null,
      "outputs": []
    },
    {
      "source": [
        "Dog = \"Terry\"  # Assign the value \"Terry\" to the variable Dog\n",
        "Cat = \"Sissy\"  # Assign the value \"Sissy\" to the variable Cat\n",
        "\n",
        "Dog == \"Terry\", Cat == \"Sissy\" # Now this comparison will work without error"
      ],
      "cell_type": "code",
      "metadata": {
        "id": "HAnd1nghzyGY"
      },
      "execution_count": null,
      "outputs": []
    },
    {
      "cell_type": "markdown",
      "source": [
        "My Apps that i what to build"
      ],
      "metadata": {
        "id": "tcMz3VyH9X_f"
      }
    },
    {
      "cell_type": "code",
      "source": [
        "for i in range( 12 ):\n",
        "\n",
        "  print(f'{i} : hello Ava Obochi Gabriel')"
      ],
      "metadata": {
        "id": "ffwkjkvD0C7V",
        "colab": {
          "base_uri": "https://localhost:8080/"
        },
        "outputId": "eaf90e3a-3c8c-4ace-da9f-7d970f2ba7e3"
      },
      "execution_count": null,
      "outputs": [
        {
          "output_type": "stream",
          "name": "stdout",
          "text": [
            "0 : hello Ava Obochi Gabriel\n",
            "1 : hello Ava Obochi Gabriel\n",
            "2 : hello Ava Obochi Gabriel\n",
            "3 : hello Ava Obochi Gabriel\n",
            "4 : hello Ava Obochi Gabriel\n",
            "5 : hello Ava Obochi Gabriel\n",
            "6 : hello Ava Obochi Gabriel\n",
            "7 : hello Ava Obochi Gabriel\n",
            "8 : hello Ava Obochi Gabriel\n",
            "9 : hello Ava Obochi Gabriel\n",
            "10 : hello Ava Obochi Gabriel\n",
            "11 : hello Ava Obochi Gabriel\n"
          ]
        }
      ]
    },
    {
      "cell_type": "code",
      "source": [
        "\n",
        "first_name = 'Ava'\n",
        "last_name = 'Obochi'\n",
        "language = 'Python'\n",
        "formated_string = 'My name is  {}, my last name is {}. I am learning {}'.format(first_name, last_name, language)\n",
        "print(formated_string)\n",
        "a = 4\n",
        "b = 3\n",
        "\n",
        "print('{} + {} = {}'.format(a, b, a + b))\n",
        "print('{} - {} = {}'.format(a, b, a - b))\n",
        "print('{} * {} = {}'.format(a, b, a * b))\n",
        "print('{} / {} = {:.2f}'.format(a, b, a / b)) # limits it to two digits after decimal\n",
        "print('{} % {} = {}'.format(a, b, a % b))\n",
        "print('{} // {} = {}'.format(a, b, a // b))\n",
        "print('{} ** {} = {}'.format(a, b, a ** b))\n",
        "\n",
        "# output\n",
        "4 + 3 = 7\n",
        "4 - 3 = 1\n",
        "4 * 3 = 12\n",
        "4 / 3 = 1.33\n",
        "4 % 3 = 1\n",
        "4 // 3 = 1\n",
        "4 ** 3 = 64\n",
        "\n",
        "# Strings  and numbers\n",
        "radius = 10\n",
        "pi = 3.14\n",
        "area = pi * radius ** 2\n",
        "formated_string = 'The area of a circle with a radius {} is {:.2f}.'.format(radius, area) # 2 digits after decimal\n",
        "print(formated_string)\n"
      ],
      "metadata": {
        "id": "8Twq4LdNfyXk"
      },
      "execution_count": null,
      "outputs": []
    }
  ]
}